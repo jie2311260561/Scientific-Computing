{
 "cells": [
  {
   "cell_type": "code",
   "execution_count": 1,
   "outputs": [],
   "source": [
    "import numpy as np\n"
   ],
   "metadata": {
    "collapsed": false,
    "pycharm": {
     "name": "#%%\n"
    }
   }
  },
  {
   "cell_type": "markdown",
   "source": [
    "# numpy数组的合并 `vstack` `hstack` `dstack`\n",
    "- vs 纵向\n",
    "- hs 水平方向\n",
    "- ds 深度拆分\n",
    "## 数组的拆分 `vsplit` `hsplit` `dsplit`"
   ],
   "metadata": {
    "collapsed": false
   }
  },
  {
   "cell_type": "code",
   "execution_count": 4,
   "outputs": [
    {
     "data": {
      "text/plain": "array([[0, 1, 2, 3, 4, 5],\n       [0, 1, 2, 3, 4, 5],\n       [0, 1, 2, 3, 4, 5],\n       [0, 1, 2, 3, 4, 5],\n       [0, 1, 2, 3, 4, 5],\n       [0, 1, 2, 3, 4, 5]])"
     },
     "execution_count": 4,
     "metadata": {},
     "output_type": "execute_result"
    }
   ],
   "source": [
    "m = np.arange(6)\n",
    "m = np.array([m]*6)\n",
    "m"
   ],
   "metadata": {
    "collapsed": false,
    "pycharm": {
     "name": "#%%\n"
    }
   }
  },
  {
   "cell_type": "code",
   "execution_count": 12,
   "outputs": [
    {
     "data": {
      "text/plain": "array([[0, 1, 2, 3, 4, 5],\n       [0, 1, 2, 3, 4, 5],\n       [0, 1, 2, 3, 4, 5],\n       [0, 1, 2, 3, 4, 5],\n       [0, 1, 2, 3, 4, 5],\n       [0, 1, 2, 3, 4, 5]])"
     },
     "execution_count": 12,
     "metadata": {},
     "output_type": "execute_result"
    }
   ],
   "source": [
    "x = range(6)\n",
    "n = np.array([x]*6)\n",
    "n"
   ],
   "metadata": {
    "collapsed": false,
    "pycharm": {
     "name": "#%%\n"
    }
   }
  },
  {
   "cell_type": "code",
   "execution_count": 21,
   "outputs": [
    {
     "data": {
      "text/plain": "array([[0, 1, 2, 3, 4, 5, 0, 1, 2, 3, 4, 5],\n       [0, 1, 2, 3, 4, 5, 0, 1, 2, 3, 4, 5],\n       [0, 1, 2, 3, 4, 5, 0, 1, 2, 3, 4, 5],\n       [0, 1, 2, 3, 4, 5, 0, 1, 2, 3, 4, 5],\n       [0, 1, 2, 3, 4, 5, 0, 1, 2, 3, 4, 5],\n       [0, 1, 2, 3, 4, 5, 0, 1, 2, 3, 4, 5]])"
     },
     "execution_count": 21,
     "metadata": {},
     "output_type": "execute_result"
    }
   ],
   "source": [
    "#ret = np.dstack(n,axis = 1)\n",
    "ret  = np.concatenate([m,n],axis=1)\n",
    "ret"
   ],
   "metadata": {
    "collapsed": false,
    "pycharm": {
     "name": "#%%\n"
    }
   }
  },
  {
   "cell_type": "code",
   "execution_count": 27,
   "outputs": [
    {
     "data": {
      "text/plain": "[array([[0, 1, 2, 3, 4, 5],\n        [0, 1, 2, 3, 4, 5],\n        [0, 1, 2, 3, 4, 5],\n        [0, 1, 2, 3, 4, 5],\n        [0, 1, 2, 3, 4, 5],\n        [0, 1, 2, 3, 4, 5]]),\n array([[0, 1, 2, 3, 4, 5],\n        [0, 1, 2, 3, 4, 5],\n        [0, 1, 2, 3, 4, 5],\n        [0, 1, 2, 3, 4, 5],\n        [0, 1, 2, 3, 4, 5],\n        [0, 1, 2, 3, 4, 5]])]"
     },
     "execution_count": 27,
     "metadata": {},
     "output_type": "execute_result"
    }
   ],
   "source": [
    "list = np.split(ret,[6],axis=1)\n",
    "list"
   ],
   "metadata": {
    "collapsed": false,
    "pycharm": {
     "name": "#%%\n"
    }
   }
  }
 ],
 "metadata": {
  "kernelspec": {
   "display_name": "Python 3",
   "language": "python",
   "name": "python3"
  },
  "language_info": {
   "codemirror_mode": {
    "name": "ipython",
    "version": 2
   },
   "file_extension": ".py",
   "mimetype": "text/x-python",
   "name": "python",
   "nbconvert_exporter": "python",
   "pygments_lexer": "ipython2",
   "version": "2.7.6"
  }
 },
 "nbformat": 4,
 "nbformat_minor": 0
}