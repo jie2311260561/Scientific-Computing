{
 "cells": [
  {
   "cell_type": "code",
   "execution_count": null,
   "metadata": {
    "collapsed": true
   },
   "outputs": [],
   "source": []
  },
  {
   "cell_type": "markdown",
   "source": [
    "###  任务状态\n",
    "- 就绪：等待CPU\n",
    "- 运行： 正在运行\n",
    "- 阻塞： 任务不在就序列表 挂起 演示 正在等待信号亮 等待读写事件\n",
    "- 退出："
   ],
   "metadata": {
    "collapsed": false
   }
  },
  {
   "cell_type": "markdown",
   "source": [
    "####  任务ID\n",
    "非常重要的参数\n",
    "#### 任务优先级\n",
    "就是顺序\n",
    "#### 入口函数\n",
    "新任务都有入口函数\n",
    "#### 任务TCB 任务控制块\n",
    "任务栈 在运行中\n",
    "\n",
    "任务创建  任务删除 任务演示 任务挂起 任务恢复  更改任务优先级  任务调度  根据控制块查询任务ID\n",
    "任务 如果内存不够就会初始化失败\n",
    "\n",
    "## 所以就有OSAL  OSAL 中的接口在 osal。h头文件\n"
   ],
   "metadata": {
    "collapsed": false
   }
  }
 ],
 "metadata": {
  "kernelspec": {
   "display_name": "Python 3",
   "language": "python",
   "name": "python3"
  },
  "language_info": {
   "codemirror_mode": {
    "name": "ipython",
    "version": 2
   },
   "file_extension": ".py",
   "mimetype": "text/x-python",
   "name": "python",
   "nbconvert_exporter": "python",
   "pygments_lexer": "ipython2",
   "version": "2.7.6"
  }
 },
 "nbformat": 4,
 "nbformat_minor": 0
}